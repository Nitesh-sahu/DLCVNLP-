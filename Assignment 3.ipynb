{
 "cells": [
  {
   "cell_type": "code",
   "execution_count": 1,
   "metadata": {},
   "outputs": [
    {
     "name": "stdout",
     "output_type": "stream",
     "text": [
      "after reduce function\n",
      "21\n"
     ]
    }
   ],
   "source": [
    "def sum_1(a,b):\n",
    "    return a+b\n",
    "\n",
    "def reduce(sum_1,list_1):\n",
    "    a = list_1[0]\n",
    "    for i in list_1[1:]:\n",
    "        a=sum_1(a,i)\n",
    "    return a\n",
    "\n",
    "        \n",
    "def main():\n",
    "    list_1 = [1,2,3,4,5,6]\n",
    "    res = reduce(sum_1,list_1)\n",
    "    print(\"after reduce function\")\n",
    "    print(res)\n",
    "\n",
    "if __name__== '__main__':\n",
    "    main()"
   ]
  },
  {
   "cell_type": "code",
   "execution_count": 2,
   "metadata": {},
   "outputs": [
    {
     "name": "stdout",
     "output_type": "stream",
     "text": [
      "the filtered list is:\n",
      "2\n",
      "4\n",
      "6\n",
      "8\n",
      "10\n",
      "12\n",
      "14\n",
      "16\n",
      "18\n",
      "20\n",
      "22\n",
      "24\n",
      "26\n",
      "28\n",
      "30\n",
      "32\n",
      "34\n",
      "36\n",
      "38\n",
      "40\n",
      "42\n",
      "44\n",
      "46\n",
      "48\n"
     ]
    }
   ],
   "source": [
    "def even(n):\n",
    "    if n%2==0:\n",
    "        return n \n",
    "    \n",
    "    \n",
    "def my_filter(even,list_1):\n",
    "    fil_list=[]\n",
    "    for i in list_1:\n",
    "        fil_list.append(even(i))\n",
    "    fil_list=[i for i in fil_list if i]\n",
    "    return fil_list\n",
    "\n",
    "\n",
    "def main():\n",
    "    list_1 = [i for i in range(0,50)]\n",
    "    fil_list = my_filter(even,list_1)\n",
    "    \n",
    "    print(\"the filtered list is:\")\n",
    "    for i in fil_list:\n",
    "        print(i)\n",
    "\n",
    "    \n",
    "if __name__== '__main__':\n",
    "    main()\n",
    "        "
   ]
  },
  {
   "cell_type": "code",
   "execution_count": 3,
   "metadata": {},
   "outputs": [
    {
     "name": "stdout",
     "output_type": "stream",
     "text": [
      "['x', 'xx', 'xxx', 'xxxx', 'y', 'yy', 'yyy', 'yyyy', 'z', 'zz', 'zzz', 'zzzz']\n"
     ]
    }
   ],
   "source": [
    "word = ['x','y','z']\n",
    "final_res =[]\n",
    "n=0\n",
    "for i in word:\n",
    "    for j in range(1,5):\n",
    "        final_res.append(i*j)\n",
    "print(final_res)"
   ]
  },
  {
   "cell_type": "code",
   "execution_count": 4,
   "metadata": {},
   "outputs": [
    {
     "name": "stdout",
     "output_type": "stream",
     "text": [
      "['x', 'y', 'z', 'xx', 'yy', 'zz', 'xxx', 'yyy', 'zzz', 'xxxx', 'yyyy', 'zzzz']\n"
     ]
    }
   ],
   "source": [
    "word = ['x','y','z']\n",
    "final_res =[]\n",
    "n=0\n",
    "for i in range(1,5):\n",
    "    for j in word:\n",
    "        final_res.append(j*i)\n",
    "print(final_res)"
   ]
  },
  {
   "cell_type": "code",
   "execution_count": 5,
   "metadata": {},
   "outputs": [
    {
     "name": "stdout",
     "output_type": "stream",
     "text": [
      "[[2], [3], [4], [3], [4], [5], [4], [5], [6], [[2, 3, 4, 5], [3, 4, 5, 6]]]\n"
     ]
    }
   ],
   "source": [
    "first=[[x+y] for x in range(2,5) for y in range(3)]\n",
    "sec=[]\n",
    "f_n=2\n",
    "l_n=5\n",
    "for i in range(1,3):\n",
    "    in_list=[]\n",
    "    for j in range(f_n,l_n+1):\n",
    "        in_list.append(j)\n",
    "    sec.append(in_list)\n",
    "    f_n =f_n + 1\n",
    "    l_n = l_n +1\n",
    "print(first+[sec]) "
   ]
  },
  {
   "cell_type": "code",
   "execution_count": 6,
   "metadata": {},
   "outputs": [
    {
     "name": "stdout",
     "output_type": "stream",
     "text": [
      "[[4, 5, 6, 7], [5, 6, 7, 8]]\n"
     ]
    }
   ],
   "source": [
    "f_n, l_n =4, 7\n",
    "sec=[]\n",
    "for i in range(1,3):\n",
    "    in_list=[]\n",
    "    for j in range(f_n,l_n+1):\n",
    "        in_list.append(j)\n",
    "    sec.append(in_list)\n",
    "    f_n =f_n + 1\n",
    "    l_n = l_n +1\n",
    "print(sec)"
   ]
  },
  {
   "cell_type": "code",
   "execution_count": 7,
   "metadata": {},
   "outputs": [
    {
     "name": "stdout",
     "output_type": "stream",
     "text": [
      "[(1, 1), (2, 1), (3, 1), (1, 2), (2, 2), (3, 2), (1, 3), (2, 3), (3, 3)]\n"
     ]
    }
   ],
   "source": [
    "lis=[]\n",
    "for i in range(1,4):\n",
    "    for j in range(1,4):\n",
    "        lis.append((j,i))\n",
    "print(lis)\n",
    "        "
   ]
  },
  {
   "cell_type": "code",
   "execution_count": null,
   "metadata": {},
   "outputs": [],
   "source": []
  }
 ],
 "metadata": {
  "kernelspec": {
   "display_name": "Python 3",
   "language": "python",
   "name": "python3"
  },
  "language_info": {
   "codemirror_mode": {
    "name": "ipython",
    "version": 3
   },
   "file_extension": ".py",
   "mimetype": "text/x-python",
   "name": "python",
   "nbconvert_exporter": "python",
   "pygments_lexer": "ipython3",
   "version": "3.7.3"
  }
 },
 "nbformat": 4,
 "nbformat_minor": 4
}
